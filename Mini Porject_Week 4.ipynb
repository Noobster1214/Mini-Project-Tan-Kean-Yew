{
 "cells": [
  {
   "cell_type": "markdown",
   "id": "ecc32733",
   "metadata": {},
   "source": [
    "# Activity 1"
   ]
  },
  {
   "cell_type": "code",
   "execution_count": 1,
   "id": "beab22c4",
   "metadata": {},
   "outputs": [
    {
     "data": {
      "text/plain": [
       "True"
      ]
     },
     "execution_count": 1,
     "metadata": {},
     "output_type": "execute_result"
    }
   ],
   "source": [
    "import sys\n",
    "# Python 3.7 is required\n",
    "assert sys.version_info >= (3, 7)\n",
    "\n",
    "import cv2 as cv\n",
    "import numpy as np\n",
    "\n",
    "np.random.seed(99)\n",
    "\n",
    "# Make sure that optimization is enabled\n",
    "if not cv.useOptimized():\n",
    "    cv.setUseOptimized(True)\n",
    "    \n",
    "cv.useOptimized()"
   ]
  },
  {
   "cell_type": "code",
   "execution_count": 2,
   "id": "800bd198",
   "metadata": {},
   "outputs": [],
   "source": [
    "width = 256\n",
    "height = 256\n",
    "\n",
    "color = np.random.randint(0, 256, (height, width, 3), dtype=np.uint8)\n",
    "grayscale = np.random.randint(0, 256, (height, width), dtype=np.uint8)\n",
    "\n",
    "# Create color image from noise\n",
    "color_image = cv.cvtColor(color, cv.COLOR_BGR2RGB)\n",
    "\n",
    "cv.imshow('Random Noise Color Image', color_image)\n",
    "cv.imshow('Random Grayscale Image', grayscale)\n",
    "cv.waitKey(0)\n",
    "cv.destroyAllWindows()"
   ]
  },
  {
   "cell_type": "markdown",
   "id": "d176802d",
   "metadata": {},
   "source": [
    "# Activity 2"
   ]
  },
  {
   "cell_type": "code",
   "execution_count": 3,
   "id": "b4e191ff",
   "metadata": {},
   "outputs": [],
   "source": [
    "#original code\n",
    "img = cv.imread('images/dog.jfif')\n",
    "img_copy = img.copy()\n",
    "\n",
    "height, width = img.shape[:2]\n",
    "num_vertical_patches = 2\n",
    "num_horizontal_patches = 3\n",
    "\n",
    "# M and N are basically number of pixels per patch\n",
    "M, N = int(height / num_vertical_patches), int(width / num_horizontal_patches)\n",
    "\n",
    "x1, y1 = 0, 0\n",
    "\n",
    "for y in range(0, height, M):\n",
    "    for x in range(0, width, N):\n",
    "        \n",
    "        y1 = y + M\n",
    "        x1 = x + N\n",
    "        \n",
    "        if x1>=width and y1>=height:\n",
    "            x1 = width-1\n",
    "            y1 = height-1\n",
    "            tile = img[y:height, x:width]\n",
    "            cv.rectangle(img_copy, (x,y), (x1, y1), (0, 255, 0), 1)\n",
    "            cv.imshow('tile', tile)\n",
    "            \n",
    "        elif y1>=height:\n",
    "            y1 = height-1\n",
    "            cv.rectangle(img_copy, (x, y), (x1, y1), (0, 255, 0), 1)\n",
    "            \n",
    "        elif x1>=width:\n",
    "            x1 = width-1\n",
    "            cv.rectangle(img_copy, (x, y), (x1, y1), (0, 255, 0), 1)\n",
    "            \n",
    "        else:\n",
    "            cv.rectangle(img_copy, (x, y), (x1, y1), (0, 255, 0), 1)\n",
    "            \n",
    "cv.imshow('patched image', img_copy)\n",
    "cv.waitKey(0)\n",
    "cv.destroyAllWindows()"
   ]
  },
  {
   "cell_type": "code",
   "execution_count": 9,
   "id": "23230da1",
   "metadata": {},
   "outputs": [],
   "source": [
    "def crop_grid(img, num_horizontal_grid, num_vertical_grid, line_color):\n",
    "    img_copy = img.copy()\n",
    "    height, width = img.shape[:2]\n",
    "    num_vertical_patches = num_vertical_grid\n",
    "    num_horizontal_patches = num_horizontal_grid\n",
    "    M, N = int(height / num_vertical_patches), int(width / num_horizontal_patches)\n",
    "    x1, y1 = 0, 0\n",
    "    \n",
    "    for y in range(0, height, M):\n",
    "        for x in range(0, width, N):\n",
    "            y1 = y + M\n",
    "            x1 = x + N\n",
    "            \n",
    "            if x1 >= width and y1 >= height:\n",
    "                x1 = width - 1\n",
    "                y1 = height - 1\n",
    "                tile = img[y:height, x:width]\n",
    "                cv.rectangle(img_copy, (x, y), (x1, y1), line_color, 1)\n",
    "                cv.imshow('tile', tile)\n",
    "                \n",
    "            elif y1 >= height:\n",
    "                y1 = height - 1\n",
    "                cv.rectangle(img_copy, (x, y), (x1, y1), line_color, 1)\n",
    "                \n",
    "            elif x1 >= width:\n",
    "                x1 = width - 1\n",
    "                cv.rectangle(img_copy, (x, y), (x1, y1), line_color, 1)\n",
    "                \n",
    "            else:\n",
    "                cv.rectangle(img_copy, (x, y), (x1, y1), line_color, 1)\n",
    "                \n",
    "    cv.imshow('patched image', img_copy)\n",
    "    cv.waitKey(0)\n",
    "    cv.destroyAllWindows()\n",
    "\n",
    "# Usage example\n",
    "img = cv.imread('images/dog.jfif')\n",
    "crop_grid(img, 3, 2, (0, 255, 0))"
   ]
  },
  {
   "cell_type": "markdown",
   "id": "a9f29f02",
   "metadata": {},
   "source": [
    "# Activity 3"
   ]
  },
  {
   "cell_type": "code",
   "execution_count": 2,
   "id": "58d8ef30",
   "metadata": {},
   "outputs": [],
   "source": [
    "#original code\n",
    "img = cv.imread(\"images/lena.jfif\")\n",
    "\n",
    "img2 = cv.imread(\"images/coins.jfif\")\n",
    "\n",
    "#resizze img2\n",
    "alpha = 0.8\n",
    "h,w = img.shape[:2]\n",
    "img2 = cv.resize(img2,(w,h))\n",
    "\n",
    "#blending\n",
    "res = cv.addWeighted(img,alpha,img2,1-alpha,0) #beta set as 0\n",
    "\n",
    "cv.imshow(\"img1\",img)\n",
    "cv.imshow(\"img2\",img2)\n",
    "cv.imshow(\"blending\",res)\n",
    "cv.waitKey(0)\n",
    "cv.destroyAllWindows()"
   ]
  },
  {
   "cell_type": "code",
   "execution_count": 7,
   "id": "2b46691d",
   "metadata": {},
   "outputs": [],
   "source": [
    "import cv2\n",
    "\n",
    "img = cv.imread(\"images/lena.jfif\")\n",
    "img2 = cv.imread(\"images/coins.jfif\")\n",
    "num_frames = 10\n",
    "\n",
    "#resizze img2\n",
    "alpha = 0.8\n",
    "h,w = img.shape[:2]\n",
    "img2 = cv.resize(img2,(w,h))\n",
    "\n",
    "# Generate image sequence with smooth transition\n",
    "for i in range(num_frames + 1):\n",
    "    alpha = i / num_frames\n",
    "    beta = 1 - alpha\n",
    "\n",
    "    #blending\n",
    "    res = cv.addWeighted(img, alpha, img2, beta, 0)\n",
    "\n",
    "    # Display the current frame\n",
    "    cv.imshow(\"Image Sequence\", res)\n",
    "    cv.waitKey(100)  # Display each frame for 100 milliseconds\n",
    "\n",
    "cv.waitKey(0)\n",
    "cv.destroyAllWindows()"
   ]
  },
  {
   "cell_type": "markdown",
   "id": "ed4e030c",
   "metadata": {},
   "source": [
    "# Activity 4"
   ]
  },
  {
   "cell_type": "code",
   "execution_count": 4,
   "id": "a311f022",
   "metadata": {},
   "outputs": [],
   "source": [
    "img = cv.imread(\"images/travel_hd.jpg\")\n",
    "watermark = cv.imread(\"images/lena.jfif\")\n",
    "\n",
    "display_ratio = 0.15\n",
    "\n",
    "#resize image\n",
    "img_resize = cv.resize(img, None, fx=display_ratio, fy=display_ratio)\n",
    "\n",
    "#set size of watermark\n",
    "wm_res_y = int(img_resize.shape[0] * 0.15)\n",
    "wm_ratio = wm_res_y / watermark.shape[0]\n",
    "wm_res_x = int(watermark.shape[1] * wm_ratio)\n",
    "wm_res = cv.resize(watermark, (wm_res_x, wm_res_y))\n",
    "\n",
    "#watermark position\n",
    "h, w, = img_resize.shape[:2] \n",
    "wm_h, wm_w = wm_res.shape[:2] \n",
    "wm_region = img_resize[h - wm_h:h, :wm_w]\n",
    "\n",
    "# add watermark\n",
    "blend = cv.addWeighted(wm_region, 0.75, wm_res, 0.25, 0)\n",
    "img_resize[h - wm_h:h, :wm_w] = blend\n",
    "\n",
    "cv.imshow(\"Watermarked Image\", img_resize)\n",
    "cv.waitKey(0)\n",
    "cv.destroyAllWindows()"
   ]
  },
  {
   "cell_type": "code",
   "execution_count": null,
   "id": "64c68734",
   "metadata": {},
   "outputs": [],
   "source": []
  }
 ],
 "metadata": {
  "kernelspec": {
   "display_name": "Python 3 (ipykernel)",
   "language": "python",
   "name": "python3"
  },
  "language_info": {
   "codemirror_mode": {
    "name": "ipython",
    "version": 3
   },
   "file_extension": ".py",
   "mimetype": "text/x-python",
   "name": "python",
   "nbconvert_exporter": "python",
   "pygments_lexer": "ipython3",
   "version": "3.9.12"
  }
 },
 "nbformat": 4,
 "nbformat_minor": 5
}
