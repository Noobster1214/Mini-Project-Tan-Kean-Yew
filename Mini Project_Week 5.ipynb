{
 "cells": [
  {
   "cell_type": "code",
   "execution_count": 8,
   "id": "9aab549a",
   "metadata": {},
   "outputs": [
    {
     "data": {
      "text/plain": [
       "True"
      ]
     },
     "execution_count": 8,
     "metadata": {},
     "output_type": "execute_result"
    }
   ],
   "source": [
    "import sys\n",
    "import imutils\n",
    "# assert Python 3.7 or later is required\n",
    "assert sys.version_info >= (3, 7)\n",
    "\n",
    "import cv2 as cv\n",
    "import numpy as np\n",
    "\n",
    "# Make sure that optimization is enabled\n",
    "if not cv.useOptimized():\n",
    "    cv.setUseOptimized(True)\n",
    "    \n",
    "cv.useOptimized()"
   ]
  },
  {
   "cell_type": "markdown",
   "id": "96c39216",
   "metadata": {},
   "source": [
    "# Activity 1"
   ]
  },
  {
   "cell_type": "code",
   "execution_count": 5,
   "id": "dadde07e",
   "metadata": {},
   "outputs": [],
   "source": [
    "# Load the image\n",
    "img = cv.imread('images/lena.jfif')\n",
    "\n",
    "# Define the angle of rotation\n",
    "angle = 45\n",
    "\n",
    "# Rotate the image without cropping\n",
    "rotated_image = imutils.rotate_bound(img, angle)\n",
    "\n",
    "# Display the original and rotated images\n",
    "cv.imshow(\"Original Image\", img)\n",
    "cv.imshow(\"Rotated Image\", rotated_image)\n",
    "cv.waitKey(0)\n",
    "cv.destroyAllWindows()"
   ]
  },
  {
   "cell_type": "markdown",
   "id": "b1960301",
   "metadata": {},
   "source": [
    "# Activity 2"
   ]
  },
  {
   "cell_type": "code",
   "execution_count": 10,
   "id": "4b404804",
   "metadata": {},
   "outputs": [],
   "source": [
    "# Load the image\n",
    "flower = cv.imread(\"images/flower.jfif\")\n",
    "bees = cv.imread(\"images/native-bee.png\")\n",
    "\n",
    "# Convert flower image into grayscale\n",
    "flower_gs = cv.cvtColor(flower, cv.COLOR_BGR2GRAY)\n",
    "\n",
    "# Apply threshold to the flower image\n",
    "_, threshold_img = cv.threshold(flower_gs, 1, 255, cv.THRESH_BINARY)\n",
    "\n",
    "# Apply bitwise operator\n",
    "segment = cv.bitwise_and(flower, flower, mask=threshold_img)\n",
    "\n",
    "# Blend images together\n",
    "h, w = flower.shape[:2]\n",
    "bees_seg = bees[0:h, 0:w]\n",
    "img = cv.addWeighted(bees_seg, 1.0, segment, 1.0, 1)\n",
    "\n",
    "# Replace segment with blended image\n",
    "bees[0:h, 0:w] = img\n",
    "\n",
    "# Display the result\n",
    "cv.imshow(\"overlay\", bees)\n",
    "cv.waitKey(0)\n",
    "cv.destroyAllWindows()"
   ]
  },
  {
   "cell_type": "markdown",
   "id": "e1da2846",
   "metadata": {},
   "source": [
    "# Activity 3"
   ]
  },
  {
   "cell_type": "code",
   "execution_count": 6,
   "id": "6824b45d",
   "metadata": {},
   "outputs": [],
   "source": [
    "# Load the image\n",
    "img = cv.imread('images/native-bee.png')\n",
    "\n",
    "# Custom kernels\n",
    "kernel_3x3 = np.array([[0, -1, 0],\n",
    "                       [-1, 5, -1],\n",
    "                       [0, -1, 0]])\n",
    "\n",
    "kernel_5x5 = np.array([[-1, -1, -1, -1, -1],\n",
    "                       [-1, -1, -1, -1, -1],\n",
    "                       [-1, -1, 25, -1, -1],\n",
    "                       [-1, -1, -1, -1, -1],\n",
    "                       [-1, -1, -1, -1, -1]])\n",
    "\n",
    "# Apply the custom kernels\n",
    "image_3x3 = cv.filter2D(img, -1, kernel_3x3)\n",
    "image_5x5 = cv.filter2D(img, -1, kernel_5x5)\n",
    "\n",
    "# Display the original and sharpened images\n",
    "cv.imshow('Original Image', img)\n",
    "cv.imshow('Image (3x3)', image_3x3)\n",
    "cv.imshow('Image (5x5)', image_5x5)\n",
    "cv.waitKey(0)\n",
    "cv.destroyAllWindows()"
   ]
  },
  {
   "cell_type": "markdown",
   "id": "c4e43b52",
   "metadata": {},
   "source": [
    "3x3 image is more sharpen\n",
    "5x5 is more aggresive than 3x3"
   ]
  },
  {
   "cell_type": "markdown",
   "id": "cc4247b7",
   "metadata": {},
   "source": [
    "# Activity 4"
   ]
  },
  {
   "cell_type": "code",
   "execution_count": 7,
   "id": "c6599a7d",
   "metadata": {},
   "outputs": [],
   "source": [
    "# Load the noisy image\n",
    "img = cv.imread('images/noise_lena.jpg')\n",
    "\n",
    "# Apply average filter (3x3 kernel)\n",
    "average_filtered = cv.blur(img, (3, 3))\n",
    "\n",
    "# Apply Gaussian filter (5x5 kernel)\n",
    "gaussian_filtered = cv.GaussianBlur(img, (5, 5), 0)\n",
    "\n",
    "# Apply median filter (3x3 kernel)\n",
    "median_filtered = cv.medianBlur(img, 3)\n",
    "\n",
    "# Display the original and filtered images\n",
    "cv.imshow('Original Image', img)\n",
    "cv.imshow('Average Filtered', average_filtered)\n",
    "cv.imshow('Gaussian Filtered', gaussian_filtered)\n",
    "cv.imshow('Median Filtered', median_filtered)\n",
    "\n",
    "cv.waitKey(0)\n",
    "cv.destroyAllWindows()"
   ]
  },
  {
   "cell_type": "markdown",
   "id": "58e07d68",
   "metadata": {},
   "source": [
    "Average Filter: It reduce high frequency noise and blurs the image slightly.\n",
    "Gaussian Filter: It smooths the image while preserving edges better than average filter.\n",
    "Median Filter: It effectively remove noise."
   ]
  },
  {
   "cell_type": "code",
   "execution_count": null,
   "id": "59b28800",
   "metadata": {},
   "outputs": [],
   "source": []
  }
 ],
 "metadata": {
  "kernelspec": {
   "display_name": "Python 3 (ipykernel)",
   "language": "python",
   "name": "python3"
  },
  "language_info": {
   "codemirror_mode": {
    "name": "ipython",
    "version": 3
   },
   "file_extension": ".py",
   "mimetype": "text/x-python",
   "name": "python",
   "nbconvert_exporter": "python",
   "pygments_lexer": "ipython3",
   "version": "3.9.12"
  }
 },
 "nbformat": 4,
 "nbformat_minor": 5
}
